{
    "metadata": {
        "kernelspec": {
            "name": "python3",
            "display_name": "Python 3 (ipykernel)",
            "language": "python"
        },
        "language_info": {
            "name": "python",
            "version": "3.8.10",
            "mimetype": "text/x-python",
            "codemirror_mode": {
                "name": "ipython",
                "version": 3
            },
            "pygments_lexer": "ipython3",
            "nbconvert_exporter": "python",
            "file_extension": ".py"
        }
    },
    "nbformat_minor": 2,
    "nbformat": 4,
    "cells": [
        {
            "cell_type": "markdown",
            "source": [
                "# Exercises: Working with Databases in Python\n",
                "\n",
                "For the exercises, we will be practicing the steps outlined in this [article](https://towardsdatascience.com/do-you-know-python-has-a-built-in-database-d553989c87bd). You can skip the portion where the author downloads a separate SQL client to examine the database. "
            ],
            "metadata": {
                "azdata_cell_guid": "d7b89799-a102-479f-87b7-f2759ff1962e"
            },
            "attachments": {}
        },
        {
            "cell_type": "markdown",
            "source": [
                "## Import Libraries\n",
                "\n",
                "We will need `pandas` and `sqlite3`. SQLite is a small, self-contained database engine that comes with Python so you will not have to do any additional installations for this lesson. If you want to connect to a different database engine, such as SQL server, you may need additional libraries such as `sqlalchemy` or `pyodbc` and a tool called a driver which helps to connect a database to an application.\n",
                ""
            ],
            "metadata": {
                "azdata_cell_guid": "89a0b6d9-821d-44f5-9795-9519809b9108"
            },
            "attachments": {}
        },
        {
            "cell_type": "code",
            "source": [
                "# Import sqlite3 and pandas.\n",
                "import sqlite3 as sl\n",
                "import pandas as pd\n",
                ""
            ],
            "metadata": {
                "azdata_cell_guid": "865655b0-22e9-47f4-a5df-4bfe97dda4a3",
                "tags": [],
                "language": "python"
            },
            "outputs": [],
            "execution_count": 22
        },
        {
            "cell_type": "markdown",
            "source": [
                "## Create a Database\n",
                "\n",
                "In the article, the author shows how to use `sqlite3` to open a connection to an existing database or create a new one. Use this method to make a new database called `exercises.db`."
            ],
            "metadata": {
                "azdata_cell_guid": "be8436e2-68be-47f8-9fc9-06c235a6a128"
            }
        },
        {
            "cell_type": "code",
            "source": [
                "# Create a new database called exercises.db.\n",
                "con = sl.connect ('exercises.db')\n",
                ""
            ],
            "metadata": {
                "azdata_cell_guid": "707abc33-c6ee-416e-9358-c799f1fcbb12",
                "language": "python"
            },
            "outputs": [],
            "execution_count": 23
        },
        {
            "cell_type": "markdown",
            "source": [
                "## Create a Table\n",
                "\n",
                "Follow the steps in the article to create a table called `favorite_books.db`. This table should include columns for the title, author, and a short description of why it is a favorite."
            ],
            "metadata": {
                "azdata_cell_guid": "dc9df060-ddc9-4573-bd74-3c97323f85a7"
            },
            "attachments": {}
        },
        {
            "cell_type": "code",
            "source": [
                "# Create a new table in your database.\n",
                "with con:\n",
                "    con.execute(\"\"\"\n",
                "        CREATE TABLE favorite_book (\n",
                "            title TEXT,\n",
                "            author TEXT,\n",
                "            description TEXT\n",
                "        )\n",
                "    \"\"\")\n",
                ""
            ],
            "metadata": {
                "azdata_cell_guid": "3cc6b80e-3fa2-4d2e-b2a9-1ea5d68ba01e",
                "language": "python"
            },
            "outputs": [],
            "execution_count": 24
        },
        {
            "cell_type": "markdown",
            "source": [
                "## Insert Records\n",
                "\n",
                "Add 3 entries to your table for your top 3 favorite books.\n",
                "\n",
                "<span style=\"color: rgb(41, 41, 41); font-family: charter, Georgia, Cambria, &quot;Times New Roman&quot;, Times, serif; font-size: 20px; letter-spacing: -0.06px; background-color: rgb(255, 255, 255);\">We need to define the SQL statement with question marks&nbsp;</span> `?` <span style=\"color: rgb(41, 41, 41); font-family: charter, Georgia, Cambria, &quot;Times New Roman&quot;, Times, serif; font-size: 20px; letter-spacing: -0.06px; background-color: rgb(255, 255, 255);\">&nbsp;as a placeholder. Then, let’s create some sample data to be inserted. With the connection object, we can then insert these sample rows.</span>"
            ],
            "metadata": {
                "azdata_cell_guid": "e9acec60-1485-45c8-9f12-997f959d44cc"
            },
            "attachments": {}
        },
        {
            "cell_type": "code",
            "source": [
                "# Add your 3 favorite books to your table.\n",
                "sql = 'INSERT INTO favorite_book (title, author, description) values(?, ?, ?)'\n",
                "data = [\n",
                "    ('Harry Potter and the Deathly Hallows', 'J K Rowling', 'The dynamic trio defeat Voldemort and prove that good prevails over evil'),\n",
                "    ('Many Lives Many Masters', 'Brian Weiss', 'Our existence extends way beyond the physical, we live may lives and have many chances to have different soul experiences'),\n",
                "    ('The Alchemist', 'Paulo Cuelho', 'Everyone should strive to pursue and realize their personal legend. Pay attention to the omens around you and dispel the restrictions society places on us to simply be content rather than pursue our wildest dreams')\n",
                "]\n",
                ""
            ],
            "metadata": {
                "azdata_cell_guid": "c7b8e386-f3f4-42ad-aa91-a2da2e7904a5",
                "language": "python"
            },
            "outputs": [],
            "execution_count": 25
        },
        {
            "cell_type": "code",
            "source": [
                "with con:\r\n",
                "    con.executemany(sql, data)"
            ],
            "metadata": {
                "language": "python",
                "azdata_cell_guid": "5f9a4b2e-21a0-4158-87c6-3cdbd5a9ee05"
            },
            "outputs": [],
            "execution_count": 26
        },
        {
            "cell_type": "markdown",
            "source": [
                "## Query Your Table\n",
                "\n",
                "Write a `SELECT` query to output the 3 records in your table."
            ],
            "metadata": {
                "azdata_cell_guid": "b2e48ba7-b418-4418-bb16-598fb82b964c"
            },
            "attachments": {}
        },
        {
            "cell_type": "code",
            "source": [
                "# Write your SELECT query here.\n",
                "with con:\n",
                "    data = con.execute(\"SELECT * FROM favorite_book\")\n",
                "    for row in data:\n",
                "        print(row)\n",
                ""
            ],
            "metadata": {
                "azdata_cell_guid": "c341e7e2-d635-4c26-b744-237c762f7f41",
                "tags": [],
                "language": "python"
            },
            "outputs": [
                {
                    "name": "stdout",
                    "text": "('Harry Potter and the Deathly Hallows', 'J K Rowling', 'The dynamic trio defeat Voldemort and prove that good prevails over evil')\n('Many Lives Many Masters', 'Brian Weiss', 'Our existence extends way beyond the physical, we live may lives and have many chances to have different soul experiences')\n('The Alchemist', 'Paulo Cuelho', 'Everyone should strive to pursue and realize their personal legend. Pay attention to the omens around you and dispel the restrictions society places on us to simply be content rather than pursue our wildest dreams')\n",
                    "output_type": "stream"
                }
            ],
            "execution_count": 27
        },
        {
            "cell_type": "code",
            "source": [
                "df = pd.read_sql_query(\"SELECT * FROM favorite_book\", con)\r\n",
                "print(df)"
            ],
            "metadata": {
                "language": "python",
                "azdata_cell_guid": "fa0560d8-9e5e-46ea-8164-88ab694c0a91"
            },
            "outputs": [
                {
                    "name": "stdout",
                    "text": "                                  title        author  \\\n0  Harry Potter and the Deathly Hallows   J K Rowling   \n1               Many Lives Many Masters   Brian Weiss   \n2                         The Alchemist  Paulo Cuelho   \n\n                                         description  \n0  The dynamic trio defeat Voldemort and prove th...  \n1  Our existence extends way beyond the physical,...  \n2  Everyone should strive to pursue and realize t...  \n",
                    "output_type": "stream"
                }
            ],
            "execution_count": 49
        },
        {
            "cell_type": "markdown",
            "source": [
                "## Create a New Table with Pandas\n",
                "\n",
                "Create a new table called `favorite_movies` with your top 3 favorite movies. Each movie should have an id and a title. This time, use Pandas to first make a dataframe and then write the dataframe to SQL. Write a `SELECT` query to confirm that the new table does have your top 3 favorite movies."
            ],
            "metadata": {
                "azdata_cell_guid": "2127737d-71cd-4f0d-a84e-b1db8ad54af7"
            }
        },
        {
            "cell_type": "code",
            "source": [
                "# Use Pandas to make a new table in your database.\n",
                "favorite_movies = pd.DataFrame({\n",
                "    'movie title': ['IT', 'The Notebook', 'Harry Potter and the Deathly Hallows'],\n",
                "    'ID': ['21', '45', '40']\n",
                "})\n",
                ""
            ],
            "metadata": {
                "azdata_cell_guid": "b4b6dd20-ccc0-42e7-b1e7-79d8596b3f9c",
                "language": "python"
            },
            "outputs": [],
            "execution_count": 28
        },
        {
            "cell_type": "code",
            "source": [
                "#Save dataframe to database\r\n",
                "favorite_movies.to_sql('favorite_movies', con)"
            ],
            "metadata": {
                "language": "python",
                "azdata_cell_guid": "705b2908-8e5a-4485-9ce2-8e3b3c5e5789"
            },
            "outputs": [
                {
                    "data": {
                        "text/plain": "3"
                    },
                    "metadata": {},
                    "execution_count": 29,
                    "output_type": "execute_result"
                }
            ],
            "execution_count": 29
        },
        {
            "cell_type": "code",
            "source": [
                "favorite_movies"
            ],
            "metadata": {
                "language": "python",
                "azdata_cell_guid": "c89c5748-2699-4034-bb93-a1bb36800f44"
            },
            "outputs": [
                {
                    "data": {
                        "text/plain": "                            movie title  ID\n0                                    IT  21\n1                          The Notebook  45\n2  Harry Potter and the Deathly Hallows  40",
                        "text/html": "<div>\n<style scoped>\n    .dataframe tbody tr th:only-of-type {\n        vertical-align: middle;\n    }\n\n    .dataframe tbody tr th {\n        vertical-align: top;\n    }\n\n    .dataframe thead th {\n        text-align: right;\n    }\n</style>\n<table border=\"1\" class=\"dataframe\">\n  <thead>\n    <tr style=\"text-align: right;\">\n      <th></th>\n      <th>movie title</th>\n      <th>ID</th>\n    </tr>\n  </thead>\n  <tbody>\n    <tr>\n      <th>0</th>\n      <td>IT</td>\n      <td>21</td>\n    </tr>\n    <tr>\n      <th>1</th>\n      <td>The Notebook</td>\n      <td>45</td>\n    </tr>\n    <tr>\n      <th>2</th>\n      <td>Harry Potter and the Deathly Hallows</td>\n      <td>40</td>\n    </tr>\n  </tbody>\n</table>\n</div>"
                    },
                    "metadata": {},
                    "execution_count": 32,
                    "output_type": "execute_result"
                }
            ],
            "execution_count": 32
        },
        {
            "cell_type": "code",
            "source": [
                ""
            ],
            "metadata": {
                "language": "python",
                "azdata_cell_guid": "925c51ca-aad6-4b02-8239-6edd11bc67e3"
            },
            "outputs": [],
            "execution_count": 46
        }
    ]
}