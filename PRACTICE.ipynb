{
    "metadata": {
        "kernelspec": {
            "name": "python3",
            "display_name": "Python 3 (ipykernel)",
            "language": "python"
        },
        "language_info": {
            "name": "python",
            "version": "3.8.10",
            "mimetype": "text/x-python",
            "codemirror_mode": {
                "name": "ipython",
                "version": 3
            },
            "pygments_lexer": "ipython3",
            "nbconvert_exporter": "python",
            "file_extension": ".py"
        }
    },
    "nbformat_minor": 2,
    "nbformat": 4,
    "cells": [
        {
            "cell_type": "code",
            "source": [
                "import sqlite3 as sl\r\n",
                "import pandas as pd\r\n",
                "\r\n",
                "con = sl.connect('test.db')\r\n",
                "\r\n",
                "print (\"Opened database successfully\")"
            ],
            "metadata": {
                "azdata_cell_guid": "ce8aa970-0416-4d2c-b985-5012d0ea430d",
                "language": "python"
            },
            "outputs": [
                {
                    "name": "stdout",
                    "text": "Opened database successfully\n",
                    "output_type": "stream"
                }
            ],
            "execution_count": 7
        },
        {
            "cell_type": "markdown",
            "source": [
                "<mark>DROP TABLES</mark>"
            ],
            "metadata": {
                "language": "python",
                "azdata_cell_guid": "a63152a9-1351-4bcc-8647-0b43622dc888"
            },
            "attachments": {}
        },
        {
            "cell_type": "code",
            "source": [
                "#con.execute ('DROP TABLE charms_class')\r\n",
                "#con.execute ('DROP TABLE charms_class1')"
            ],
            "metadata": {
                "language": "python",
                "azdata_cell_guid": "1bad3e49-97c0-4bfe-ad8d-b40b915f4ef0"
            },
            "outputs": [],
            "execution_count": 8
        },
        {
            "cell_type": "code",
            "source": [
                "with con:\r\n",
                "    con.execute (\"\"\" CREATE TABLE charms_class1 (\r\n",
                "    student_name varchar(255),\r\n",
                "    charms_grade varchar(255)\r\n",
                " );\"\"\")\r\n",
                "\r\n",
                "print (\"Charms class Table created successfully\")"
            ],
            "metadata": {
                "language": "python",
                "azdata_cell_guid": "7fed438b-ee88-44c6-9b02-177885f42fed"
            },
            "outputs": [
                {
                    "name": "stdout",
                    "text": "Charms class Table created successfully\n",
                    "output_type": "stream"
                }
            ],
            "execution_count": 9
        },
        {
            "cell_type": "markdown",
            "source": [
                "<mark>INSERT VALUES INTO TABLE 1</mark>"
            ],
            "metadata": {
                "language": "python",
                "azdata_cell_guid": "6651a5f2-0447-403d-b355-3228cbdcb597"
            },
            "attachments": {}
        },
        {
            "cell_type": "code",
            "source": [
                "sql = 'INSERT INTO charms_class1 (student_name, charms_grade) values(?,?)'\r\n",
                "data = [('Harry', 'C'),\r\n",
                "   ('Ron', 'D'),\r\n",
                "  ('Hermione', 'A'),\r\n",
                "  ('Luna', 'B'),\r\n",
                " ('Neville', 'B')]\r\n",
                "\r\n",
                "\r\n",
                "with con:\r\n",
                "    con.executemany(sql, data)"
            ],
            "metadata": {
                "language": "python",
                "azdata_cell_guid": "6fce6450-add6-4a45-86ce-73265c0ee5a6"
            },
            "outputs": [],
            "execution_count": 10
        },
        {
            "cell_type": "markdown",
            "source": [
                "<mark>VIEW OUTPUT</mark>"
            ],
            "metadata": {
                "language": "python",
                "azdata_cell_guid": "52e02e66-a940-4a98-90b1-f0a64dbb3664"
            },
            "attachments": {}
        },
        {
            "cell_type": "code",
            "source": [
                "with con:\r\n",
                "   data=con.execute('SELECT * FROM charms_class1') \r\n",
                "   for row in data:\r\n",
                "       print (row)\r\n",
                "    \r\n",
                ""
            ],
            "metadata": {
                "language": "python",
                "azdata_cell_guid": "0ba34b3d-5237-49e0-bdbe-f9b15d75ecf0"
            },
            "outputs": [
                {
                    "name": "stdout",
                    "text": "('Harry', 'C')\n('Ron', 'D')\n('Hermione', 'A')\n('Luna', 'B')\n('Neville', 'B')\n",
                    "output_type": "stream"
                }
            ],
            "execution_count": 11
        },
        {
            "cell_type": "code",
            "source": [
                "charms=pd.read_sql_query('SELECT * FROM charms_class1', con)\r\n",
                "charms"
            ],
            "metadata": {
                "language": "python",
                "azdata_cell_guid": "942e0eeb-6d53-487a-a705-31a4092f1550"
            },
            "outputs": [
                {
                    "data": {
                        "text/plain": "  student_name charms_grade\n0        Harry            C\n1          Ron            D\n2     Hermione            A\n3         Luna            B\n4      Neville            B",
                        "text/html": "<div>\n<style scoped>\n    .dataframe tbody tr th:only-of-type {\n        vertical-align: middle;\n    }\n\n    .dataframe tbody tr th {\n        vertical-align: top;\n    }\n\n    .dataframe thead th {\n        text-align: right;\n    }\n</style>\n<table border=\"1\" class=\"dataframe\">\n  <thead>\n    <tr style=\"text-align: right;\">\n      <th></th>\n      <th>student_name</th>\n      <th>charms_grade</th>\n    </tr>\n  </thead>\n  <tbody>\n    <tr>\n      <th>0</th>\n      <td>Harry</td>\n      <td>C</td>\n    </tr>\n    <tr>\n      <th>1</th>\n      <td>Ron</td>\n      <td>D</td>\n    </tr>\n    <tr>\n      <th>2</th>\n      <td>Hermione</td>\n      <td>A</td>\n    </tr>\n    <tr>\n      <th>3</th>\n      <td>Luna</td>\n      <td>B</td>\n    </tr>\n    <tr>\n      <th>4</th>\n      <td>Neville</td>\n      <td>B</td>\n    </tr>\n  </tbody>\n</table>\n</div>"
                    },
                    "metadata": {},
                    "execution_count": 12,
                    "output_type": "execute_result"
                }
            ],
            "execution_count": 12
        },
        {
            "cell_type": "code",
            "source": [
                "cursor=con.execute('SELECT student_name, charms_grade FROM charms_class1')\r\n",
                "for row in cursor:\r\n",
                "    print ('student_name= ', row[0])\r\n",
                "    print ('charms_grade= ', row[1])"
            ],
            "metadata": {
                "language": "python",
                "azdata_cell_guid": "1c8f7c43-e76e-483d-bb24-041224063981"
            },
            "outputs": [
                {
                    "name": "stdout",
                    "text": "student_name=  Harry\ncharms_grade=  C\nstudent_name=  Ron\ncharms_grade=  D\nstudent_name=  Hermione\ncharms_grade=  A\nstudent_name=  Luna\ncharms_grade=  B\nstudent_name=  Neville\ncharms_grade=  B\n",
                    "output_type": "stream"
                }
            ],
            "execution_count": 13
        },
        {
            "cell_type": "markdown",
            "source": [
                "<mark>UPDATE A ROW</mark>"
            ],
            "metadata": {
                "language": "python",
                "azdata_cell_guid": "754919d3-6874-4613-89c3-dc698bacc7d7"
            },
            "attachments": {}
        },
        {
            "cell_type": "code",
            "source": [
                "con.execute(\"UPDATE charms_class1 set charms_grade = 'C+' where student_name = 'Ron'\")\r\n",
                "con.commit\r\n",
                "print (\"Total number of rows updated :\"), con.total_changes"
            ],
            "metadata": {
                "language": "python",
                "azdata_cell_guid": "66056e1d-755e-4fac-a14c-d311b2090d1d"
            },
            "outputs": [
                {
                    "name": "stdout",
                    "text": "Total number of rows updated :\n",
                    "output_type": "stream"
                },
                {
                    "data": {
                        "text/plain": "(None, 6)"
                    },
                    "metadata": {},
                    "execution_count": 14,
                    "output_type": "execute_result"
                }
            ],
            "execution_count": 14
        },
        {
            "cell_type": "code",
            "source": [
                "cursor=con.execute('SELECT student_name, charms_grade FROM charms_class1')\r\n",
                "for row in cursor:\r\n",
                "    print ('student_name= ', row[0])\r\n",
                "    print ('charms_grade= ', row[1])"
            ],
            "metadata": {
                "language": "python",
                "azdata_cell_guid": "ad41efed-80c2-40e8-8994-3b4a68040e4c"
            },
            "outputs": [
                {
                    "name": "stdout",
                    "text": "student_name=  Harry\ncharms_grade=  C\nstudent_name=  Ron\ncharms_grade=  C+\nstudent_name=  Hermione\ncharms_grade=  A\nstudent_name=  Luna\ncharms_grade=  B\nstudent_name=  Neville\ncharms_grade=  B\n",
                    "output_type": "stream"
                }
            ],
            "execution_count": 15
        },
        {
            "cell_type": "markdown",
            "source": [
                "<mark>DELETE A RECORD</mark>"
            ],
            "metadata": {
                "language": "python",
                "azdata_cell_guid": "dae24b1c-bae0-460e-b6f1-dbb19dd814ab"
            },
            "attachments": {}
        },
        {
            "cell_type": "code",
            "source": [
                "con.execute(\"DELETE FROM charms_class1 where student_name = 'Luna';\")\r\n",
                "con.commit()\r\n",
                "print (\"Total number of rows deleted :\"), con.total_changes\r\n",
                ""
            ],
            "metadata": {
                "language": "python",
                "azdata_cell_guid": "c3875119-7f6d-4147-aa6e-48c803151521"
            },
            "outputs": [
                {
                    "name": "stdout",
                    "text": "Total number of rows deleted :\n",
                    "output_type": "stream"
                },
                {
                    "data": {
                        "text/plain": "(None, 7)"
                    },
                    "metadata": {},
                    "execution_count": 16,
                    "output_type": "execute_result"
                }
            ],
            "execution_count": 16
        },
        {
            "cell_type": "code",
            "source": [
                "cursor=con.execute('SELECT student_name, charms_grade FROM charms_class1')\r\n",
                "for row in cursor:\r\n",
                "    print ('student_name= ', row[0])\r\n",
                "    print ('charms_grade= ', row[1])"
            ],
            "metadata": {
                "language": "python",
                "azdata_cell_guid": "45d19a36-abfe-4bc7-ad55-ecfca63ca9d7"
            },
            "outputs": [
                {
                    "name": "stdout",
                    "text": "student_name=  Harry\ncharms_grade=  C\nstudent_name=  Ron\ncharms_grade=  C+\nstudent_name=  Hermione\ncharms_grade=  A\nstudent_name=  Neville\ncharms_grade=  B\n",
                    "output_type": "stream"
                }
            ],
            "execution_count": 17
        },
        {
            "cell_type": "markdown",
            "source": [
                "<mark>DROP POTIONS TABLE IF NEEDED</mark>"
            ],
            "metadata": {
                "language": "python",
                "azdata_cell_guid": "72f89ec8-29c3-4a7f-b171-22fb3360dc20"
            },
            "attachments": {}
        },
        {
            "cell_type": "code",
            "source": [
                "#con.execute ('DROP TABLE potions_class')"
            ],
            "metadata": {
                "language": "python",
                "azdata_cell_guid": "3aa6c285-0d90-494d-be2f-41651ac3ba16"
            },
            "outputs": [],
            "execution_count": 25
        },
        {
            "cell_type": "markdown",
            "source": [
                "<mark>CREATE TABLE 2</mark>"
            ],
            "metadata": {
                "language": "python",
                "azdata_cell_guid": "f8aeccd5-a1f7-44b3-a621-6f177d634345"
            },
            "attachments": {}
        },
        {
            "cell_type": "code",
            "source": [
                "with con:#\r\n",
                "    con.execute (\"\"\" CREATE TABLE potions_class (\r\n",
                "    student_name varchar(255),\r\n",
                "    potions_grade varchar(255)\r\n",
                " );\"\"\")\r\n",
                "\r\n",
                "print (\"Potions class Table created successfully\")"
            ],
            "metadata": {
                "language": "python",
                "azdata_cell_guid": "275177db-5eec-445c-a235-e0a3c7d48ed2"
            },
            "outputs": [
                {
                    "name": "stdout",
                    "text": "Potions class Table created successfully\n",
                    "output_type": "stream"
                }
            ],
            "execution_count": 19
        },
        {
            "cell_type": "markdown",
            "source": [
                "<mark>TABLE 2 VALUES</mark>"
            ],
            "metadata": {
                "language": "python",
                "azdata_cell_guid": "514da57b-29e8-4518-ad70-db0bbbcaeab7"
            },
            "attachments": {}
        },
        {
            "cell_type": "code",
            "source": [
                "sql = 'INSERT INTO potions_class (student_name, potions_grade) values(?,?)'\r\n",
                "data = [('Harry', 'F'),\r\n",
                "    ('Ron', 'C'),\r\n",
                "   ('Hermione', 'A+'),\r\n",
                "  ('Draco', 'E')]\r\n",
                "\r\n",
                "with con:\r\n",
                "    con.executemany(sql, data)"
            ],
            "metadata": {
                "language": "python",
                "azdata_cell_guid": "ff7dc357-8145-496b-b758-7c0aa8e875c1"
            },
            "outputs": [],
            "execution_count": 20
        },
        {
            "cell_type": "code",
            "source": [
                "potions=pd.read_sql_query('SELECT * FROM potions_class', con)\r\n",
                "potions"
            ],
            "metadata": {
                "language": "python",
                "azdata_cell_guid": "bb22771c-d19f-4f96-ade2-3275263cb159"
            },
            "outputs": [
                {
                    "data": {
                        "text/plain": "  student_name potions_grade\n0        Harry             F\n1          Ron             C\n2     Hermione            A+\n3        Draco             E",
                        "text/html": "<div>\n<style scoped>\n    .dataframe tbody tr th:only-of-type {\n        vertical-align: middle;\n    }\n\n    .dataframe tbody tr th {\n        vertical-align: top;\n    }\n\n    .dataframe thead th {\n        text-align: right;\n    }\n</style>\n<table border=\"1\" class=\"dataframe\">\n  <thead>\n    <tr style=\"text-align: right;\">\n      <th></th>\n      <th>student_name</th>\n      <th>potions_grade</th>\n    </tr>\n  </thead>\n  <tbody>\n    <tr>\n      <th>0</th>\n      <td>Harry</td>\n      <td>F</td>\n    </tr>\n    <tr>\n      <th>1</th>\n      <td>Ron</td>\n      <td>C</td>\n    </tr>\n    <tr>\n      <th>2</th>\n      <td>Hermione</td>\n      <td>A+</td>\n    </tr>\n    <tr>\n      <th>3</th>\n      <td>Draco</td>\n      <td>E</td>\n    </tr>\n  </tbody>\n</table>\n</div>"
                    },
                    "metadata": {},
                    "execution_count": 21,
                    "output_type": "execute_result"
                }
            ],
            "execution_count": 21
        },
        {
            "cell_type": "markdown",
            "source": [
                "<mark>JOIN</mark>"
            ],
            "metadata": {
                "language": "python",
                "azdata_cell_guid": "813f91dd-2111-42d7-b968-e40d37e3dd2e"
            },
            "attachments": {}
        },
        {
            "cell_type": "code",
            "source": [
                "df = pd.read_sql('''\r\n",
                "    SELECT p.student_name, p.potions_grade, c.charms_grade\r\n",
                "    FROM potions_class p LEFT JOIN charms_class1 c ON p.student_name = c.student_name\r\n",
                "''', con)\r\n",
                "\r\n",
                "df"
            ],
            "metadata": {
                "language": "python",
                "azdata_cell_guid": "97477e99-241d-49e1-8752-f6696784299a"
            },
            "outputs": [
                {
                    "data": {
                        "text/plain": "  student_name potions_grade charms_grade\n0        Harry             F            C\n1          Ron             C           C+\n2     Hermione            A+            A\n3        Draco             E         None",
                        "text/html": "<div>\n<style scoped>\n    .dataframe tbody tr th:only-of-type {\n        vertical-align: middle;\n    }\n\n    .dataframe tbody tr th {\n        vertical-align: top;\n    }\n\n    .dataframe thead th {\n        text-align: right;\n    }\n</style>\n<table border=\"1\" class=\"dataframe\">\n  <thead>\n    <tr style=\"text-align: right;\">\n      <th></th>\n      <th>student_name</th>\n      <th>potions_grade</th>\n      <th>charms_grade</th>\n    </tr>\n  </thead>\n  <tbody>\n    <tr>\n      <th>0</th>\n      <td>Harry</td>\n      <td>F</td>\n      <td>C</td>\n    </tr>\n    <tr>\n      <th>1</th>\n      <td>Ron</td>\n      <td>C</td>\n      <td>C+</td>\n    </tr>\n    <tr>\n      <th>2</th>\n      <td>Hermione</td>\n      <td>A+</td>\n      <td>A</td>\n    </tr>\n    <tr>\n      <th>3</th>\n      <td>Draco</td>\n      <td>E</td>\n      <td>None</td>\n    </tr>\n  </tbody>\n</table>\n</div>"
                    },
                    "metadata": {},
                    "execution_count": 22,
                    "output_type": "execute_result"
                }
            ],
            "execution_count": 22
        },
        {
            "cell_type": "markdown",
            "source": [
                "<mark>SLICING</mark>"
            ],
            "metadata": {
                "language": "python",
                "azdata_cell_guid": "72c7e0a1-dd61-45ab-8681-6f28df266c2b"
            },
            "attachments": {}
        },
        {
            "cell_type": "code",
            "source": [
                "df1=df[2:4]\r\n",
                "df1"
            ],
            "metadata": {
                "language": "python",
                "azdata_cell_guid": "4951af96-0a52-4bbf-8f0f-3d5297471db4",
                "tags": [
                    "hide_input"
                ]
            },
            "outputs": [
                {
                    "data": {
                        "text/plain": "  student_name potions_grade charms_grade\n2     Hermione            A+            A\n3        Draco             E         None",
                        "text/html": "<div>\n<style scoped>\n    .dataframe tbody tr th:only-of-type {\n        vertical-align: middle;\n    }\n\n    .dataframe tbody tr th {\n        vertical-align: top;\n    }\n\n    .dataframe thead th {\n        text-align: right;\n    }\n</style>\n<table border=\"1\" class=\"dataframe\">\n  <thead>\n    <tr style=\"text-align: right;\">\n      <th></th>\n      <th>student_name</th>\n      <th>potions_grade</th>\n      <th>charms_grade</th>\n    </tr>\n  </thead>\n  <tbody>\n    <tr>\n      <th>2</th>\n      <td>Hermione</td>\n      <td>A+</td>\n      <td>A</td>\n    </tr>\n    <tr>\n      <th>3</th>\n      <td>Draco</td>\n      <td>E</td>\n      <td>None</td>\n    </tr>\n  </tbody>\n</table>\n</div>"
                    },
                    "metadata": {},
                    "execution_count": 24,
                    "output_type": "execute_result"
                }
            ],
            "execution_count": 24
        },
        {
            "cell_type": "markdown",
            "source": [
                "<mark>SELECT SPECIFIC COLUMN</mark>"
            ],
            "metadata": {
                "language": "python",
                "azdata_cell_guid": "7815684e-ec9d-436c-817f-7afb2936c266"
            },
            "attachments": {}
        },
        {
            "cell_type": "code",
            "source": [
                "df2=df.loc[:,['student_name']].head()\r\n",
                "df2"
            ],
            "metadata": {
                "language": "python",
                "azdata_cell_guid": "93b7d6c6-3e69-467e-90b1-63a0f93b3640"
            },
            "outputs": [
                {
                    "data": {
                        "text/plain": "  student_name\n0        Harry\n1          Ron\n2     Hermione\n3        Draco",
                        "text/html": "<div>\n<style scoped>\n    .dataframe tbody tr th:only-of-type {\n        vertical-align: middle;\n    }\n\n    .dataframe tbody tr th {\n        vertical-align: top;\n    }\n\n    .dataframe thead th {\n        text-align: right;\n    }\n</style>\n<table border=\"1\" class=\"dataframe\">\n  <thead>\n    <tr style=\"text-align: right;\">\n      <th></th>\n      <th>student_name</th>\n    </tr>\n  </thead>\n  <tbody>\n    <tr>\n      <th>0</th>\n      <td>Harry</td>\n    </tr>\n    <tr>\n      <th>1</th>\n      <td>Ron</td>\n    </tr>\n    <tr>\n      <th>2</th>\n      <td>Hermione</td>\n    </tr>\n    <tr>\n      <th>3</th>\n      <td>Draco</td>\n    </tr>\n  </tbody>\n</table>\n</div>"
                    },
                    "metadata": {},
                    "execution_count": 26,
                    "output_type": "execute_result"
                }
            ],
            "execution_count": 26
        },
        {
            "cell_type": "markdown",
            "source": [
                "<mark>SORT VALUES</mark>"
            ],
            "metadata": {
                "language": "python",
                "azdata_cell_guid": "4e02887b-c18f-4db6-b419-fd04e4655953"
            },
            "attachments": {}
        },
        {
            "cell_type": "code",
            "source": [
                "df.sort_values(by='potions_grade').head()"
            ],
            "metadata": {
                "language": "python",
                "azdata_cell_guid": "7345c082-7cab-40ca-adcd-5fee41c7cb8a"
            },
            "outputs": [
                {
                    "data": {
                        "text/plain": "  student_name potions_grade charms_grade\n2     Hermione            A+            A\n1          Ron             C           C+\n3        Draco             E         None\n0        Harry             F            C",
                        "text/html": "<div>\n<style scoped>\n    .dataframe tbody tr th:only-of-type {\n        vertical-align: middle;\n    }\n\n    .dataframe tbody tr th {\n        vertical-align: top;\n    }\n\n    .dataframe thead th {\n        text-align: right;\n    }\n</style>\n<table border=\"1\" class=\"dataframe\">\n  <thead>\n    <tr style=\"text-align: right;\">\n      <th></th>\n      <th>student_name</th>\n      <th>potions_grade</th>\n      <th>charms_grade</th>\n    </tr>\n  </thead>\n  <tbody>\n    <tr>\n      <th>2</th>\n      <td>Hermione</td>\n      <td>A+</td>\n      <td>A</td>\n    </tr>\n    <tr>\n      <th>1</th>\n      <td>Ron</td>\n      <td>C</td>\n      <td>C+</td>\n    </tr>\n    <tr>\n      <th>3</th>\n      <td>Draco</td>\n      <td>E</td>\n      <td>None</td>\n    </tr>\n    <tr>\n      <th>0</th>\n      <td>Harry</td>\n      <td>F</td>\n      <td>C</td>\n    </tr>\n  </tbody>\n</table>\n</div>"
                    },
                    "metadata": {},
                    "execution_count": 27,
                    "output_type": "execute_result"
                }
            ],
            "execution_count": 27
        }
    ]
}